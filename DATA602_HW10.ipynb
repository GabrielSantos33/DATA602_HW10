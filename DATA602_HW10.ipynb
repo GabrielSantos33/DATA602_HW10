{
 "cells": [
  {
   "cell_type": "markdown",
   "metadata": {
    "id": "xqXbEBZtB8-u"
   },
   "source": [
    "# **Assignment 10**"
   ]
  },
  {
   "cell_type": "code",
   "execution_count": 1,
   "metadata": {
    "executionInfo": {
     "elapsed": 2,
     "status": "ok",
     "timestamp": 1668780742994,
     "user": {
      "displayName": "Gabriel Santos",
      "userId": "16066726462868079046"
     },
     "user_tz": 300
    },
    "id": "Iqswq2_ak3e-"
   },
   "outputs": [],
   "source": [
    "# core\n",
    "import matplotlib.pyplot as plt\n",
    "import numpy as np\n",
    "import pandas as pd\n",
    "\n",
    "# ml\n",
    "from sklearn import datasets as ds\n",
    "from sklearn import linear_model as lm\n",
    "from sklearn.neighbors import KNeighborsClassifier as KNN\n",
    "from sklearn.model_selection import train_test_split as tts\n",
    "\n",
    "\n",
    "import unittest"
   ]
  },
  {
   "cell_type": "code",
   "execution_count": 2,
   "metadata": {
    "colab": {
     "base_uri": "https://localhost:8080/",
     "height": 206
    },
    "executionInfo": {
     "elapsed": 569,
     "status": "ok",
     "timestamp": 1668780792744,
     "user": {
      "displayName": "Gabriel Santos",
      "userId": "16066726462868079046"
     },
     "user_tz": 300
    },
    "id": "92pRcki-k3kH",
    "outputId": "68f1905a-2347-4685-caae-095211b33031"
   },
   "outputs": [
    {
     "name": "stderr",
     "output_type": "stream",
     "text": [
      "C:\\Users\\jzw1jlf\\Anaconda3\\lib\\site-packages\\sklearn\\utils\\deprecation.py:87: FutureWarning: Function load_boston is deprecated; `load_boston` is deprecated in 1.0 and will be removed in 1.2.\n",
      "\n",
      "    The Boston housing prices dataset has an ethical problem. You can refer to\n",
      "    the documentation of this function for further details.\n",
      "\n",
      "    The scikit-learn maintainers therefore strongly discourage the use of this\n",
      "    dataset unless the purpose of the code is to study and educate about\n",
      "    ethical issues in data science and machine learning.\n",
      "\n",
      "    In this special case, you can fetch the dataset from the original\n",
      "    source::\n",
      "\n",
      "        import pandas as pd\n",
      "        import numpy as np\n",
      "\n",
      "\n",
      "        data_url = \"http://lib.stat.cmu.edu/datasets/boston\"\n",
      "        raw_df = pd.read_csv(data_url, sep=\"\\s+\", skiprows=22, header=None)\n",
      "        data = np.hstack([raw_df.values[::2, :], raw_df.values[1::2, :2]])\n",
      "        target = raw_df.values[1::2, 2]\n",
      "\n",
      "    Alternative datasets include the California housing dataset (i.e.\n",
      "    :func:`~sklearn.datasets.fetch_california_housing`) and the Ames housing\n",
      "    dataset. You can load the datasets as follows::\n",
      "\n",
      "        from sklearn.datasets import fetch_california_housing\n",
      "        housing = fetch_california_housing()\n",
      "\n",
      "    for the California housing dataset and::\n",
      "\n",
      "        from sklearn.datasets import fetch_openml\n",
      "        housing = fetch_openml(name=\"house_prices\", as_frame=True)\n",
      "\n",
      "    for the Ames housing dataset.\n",
      "    \n",
      "  warnings.warn(msg, category=FutureWarning)\n"
     ]
    },
    {
     "data": {
      "text/html": [
       "<div>\n",
       "<style scoped>\n",
       "    .dataframe tbody tr th:only-of-type {\n",
       "        vertical-align: middle;\n",
       "    }\n",
       "\n",
       "    .dataframe tbody tr th {\n",
       "        vertical-align: top;\n",
       "    }\n",
       "\n",
       "    .dataframe thead th {\n",
       "        text-align: right;\n",
       "    }\n",
       "</style>\n",
       "<table border=\"1\" class=\"dataframe\">\n",
       "  <thead>\n",
       "    <tr style=\"text-align: right;\">\n",
       "      <th></th>\n",
       "      <th>CRIM</th>\n",
       "      <th>ZN</th>\n",
       "      <th>INDUS</th>\n",
       "      <th>CHAS</th>\n",
       "      <th>NOX</th>\n",
       "      <th>RM</th>\n",
       "      <th>AGE</th>\n",
       "      <th>DIS</th>\n",
       "      <th>RAD</th>\n",
       "      <th>TAX</th>\n",
       "      <th>PTRATIO</th>\n",
       "      <th>B</th>\n",
       "      <th>LSTAT</th>\n",
       "    </tr>\n",
       "  </thead>\n",
       "  <tbody>\n",
       "    <tr>\n",
       "      <th>0</th>\n",
       "      <td>0.00632</td>\n",
       "      <td>18.0</td>\n",
       "      <td>2.31</td>\n",
       "      <td>0.0</td>\n",
       "      <td>0.538</td>\n",
       "      <td>6.575</td>\n",
       "      <td>65.2</td>\n",
       "      <td>4.0900</td>\n",
       "      <td>1.0</td>\n",
       "      <td>296.0</td>\n",
       "      <td>15.3</td>\n",
       "      <td>396.90</td>\n",
       "      <td>4.98</td>\n",
       "    </tr>\n",
       "    <tr>\n",
       "      <th>1</th>\n",
       "      <td>0.02731</td>\n",
       "      <td>0.0</td>\n",
       "      <td>7.07</td>\n",
       "      <td>0.0</td>\n",
       "      <td>0.469</td>\n",
       "      <td>6.421</td>\n",
       "      <td>78.9</td>\n",
       "      <td>4.9671</td>\n",
       "      <td>2.0</td>\n",
       "      <td>242.0</td>\n",
       "      <td>17.8</td>\n",
       "      <td>396.90</td>\n",
       "      <td>9.14</td>\n",
       "    </tr>\n",
       "    <tr>\n",
       "      <th>2</th>\n",
       "      <td>0.02729</td>\n",
       "      <td>0.0</td>\n",
       "      <td>7.07</td>\n",
       "      <td>0.0</td>\n",
       "      <td>0.469</td>\n",
       "      <td>7.185</td>\n",
       "      <td>61.1</td>\n",
       "      <td>4.9671</td>\n",
       "      <td>2.0</td>\n",
       "      <td>242.0</td>\n",
       "      <td>17.8</td>\n",
       "      <td>392.83</td>\n",
       "      <td>4.03</td>\n",
       "    </tr>\n",
       "    <tr>\n",
       "      <th>3</th>\n",
       "      <td>0.03237</td>\n",
       "      <td>0.0</td>\n",
       "      <td>2.18</td>\n",
       "      <td>0.0</td>\n",
       "      <td>0.458</td>\n",
       "      <td>6.998</td>\n",
       "      <td>45.8</td>\n",
       "      <td>6.0622</td>\n",
       "      <td>3.0</td>\n",
       "      <td>222.0</td>\n",
       "      <td>18.7</td>\n",
       "      <td>394.63</td>\n",
       "      <td>2.94</td>\n",
       "    </tr>\n",
       "    <tr>\n",
       "      <th>4</th>\n",
       "      <td>0.06905</td>\n",
       "      <td>0.0</td>\n",
       "      <td>2.18</td>\n",
       "      <td>0.0</td>\n",
       "      <td>0.458</td>\n",
       "      <td>7.147</td>\n",
       "      <td>54.2</td>\n",
       "      <td>6.0622</td>\n",
       "      <td>3.0</td>\n",
       "      <td>222.0</td>\n",
       "      <td>18.7</td>\n",
       "      <td>396.90</td>\n",
       "      <td>5.33</td>\n",
       "    </tr>\n",
       "  </tbody>\n",
       "</table>\n",
       "</div>"
      ],
      "text/plain": [
       "      CRIM    ZN  INDUS  CHAS    NOX     RM   AGE     DIS  RAD    TAX  \\\n",
       "0  0.00632  18.0   2.31   0.0  0.538  6.575  65.2  4.0900  1.0  296.0   \n",
       "1  0.02731   0.0   7.07   0.0  0.469  6.421  78.9  4.9671  2.0  242.0   \n",
       "2  0.02729   0.0   7.07   0.0  0.469  7.185  61.1  4.9671  2.0  242.0   \n",
       "3  0.03237   0.0   2.18   0.0  0.458  6.998  45.8  6.0622  3.0  222.0   \n",
       "4  0.06905   0.0   2.18   0.0  0.458  7.147  54.2  6.0622  3.0  222.0   \n",
       "\n",
       "   PTRATIO       B  LSTAT  \n",
       "0     15.3  396.90   4.98  \n",
       "1     17.8  396.90   9.14  \n",
       "2     17.8  392.83   4.03  \n",
       "3     18.7  394.63   2.94  \n",
       "4     18.7  396.90   5.33  "
      ]
     },
     "execution_count": 2,
     "metadata": {},
     "output_type": "execute_result"
    }
   ],
   "source": [
    "# Load datasets here once and assign to variables iris and boston\n",
    "\n",
    "data = ds.load_iris()\n",
    "iris = pd.DataFrame(data.data, columns = data.feature_names)\n",
    "iris.head()\n",
    "\n",
    "data = ds.load_boston()\n",
    "boston = pd.DataFrame(data.data, columns = data.feature_names) \n",
    "boston.head()"
   ]
  },
  {
   "cell_type": "markdown",
   "metadata": {
    "id": "lA9exQg2lFEn"
   },
   "source": [
    "**Q1** \n",
    "\n",
    "**Data set: Iris**\n",
    "\n",
    "* Return the first 5 rows of the data including the feature names as column headings in a DataFrame and a\n",
    "separate Python list containing target names"
   ]
  },
  {
   "cell_type": "code",
   "execution_count": 6,
   "metadata": {
    "executionInfo": {
     "elapsed": 722,
     "status": "ok",
     "timestamp": 1668780161353,
     "user": {
      "displayName": "Gabriel Santos",
      "userId": "16066726462868079046"
     },
     "user_tz": 300
    },
    "id": "1kcEFauAlAxY"
   },
   "outputs": [],
   "source": [
    "def Q1():\n",
    "    X = iris.data    \n",
    "    df = pd.DataFrame(X, columns=iris.feature_names)\n",
    "    df_first_five_rows = df.head()    \n",
    "    target_names = iris.target_names\n",
    "    return df_first_five_rows, target_names"
   ]
  },
  {
   "cell_type": "markdown",
   "metadata": {
    "id": "o2GEIhqzlT-i"
   },
   "source": [
    "**Q2**\n",
    "\n",
    "**Data set: Iris**\n",
    "\n",
    "* Fit the Iris dataset into a kNN model with neighbors=5 and predict the category of observations passed in \n",
    "argument new_observations. Return back the target names of each prediction (and not their encoded values,\n",
    " i.e. return setosa instead of 0)."
   ]
  },
  {
   "cell_type": "code",
   "execution_count": 4,
   "metadata": {
    "executionInfo": {
     "elapsed": 164,
     "status": "ok",
     "timestamp": 1668780139213,
     "user": {
      "displayName": "Gabriel Santos",
      "userId": "16066726462868079046"
     },
     "user_tz": 300
    },
    "id": "wyqbRKh5lAzg"
   },
   "outputs": [],
   "source": [
    "def Q2(new_observations):\n",
    "    X = iris.data\n",
    "    my_dict = {0:'setosa', 1:'versicolor', 2:'virginica'}\n",
    "    y = iris.target\n",
    "    knn = KNN(n_neighbors=5)\n",
    "        \n",
    "    knn.fit(X, y)\n",
    "\n",
    "    pred = knn.predict(new_observations)\n",
    "    iris_predictions = np.vectorize(my_dict.get)(pred)\n",
    "    print(iris_predictions)\n",
    "    return iris_predictions"
   ]
  },
  {
   "cell_type": "markdown",
   "metadata": {
    "id": "aVMa16PflnBv"
   },
   "source": [
    "**Q3**\n",
    "\n",
    "**Data set: Iris**\n",
    "\n",
    "* Split the Iris dataset into a train / test model with the split ratio between the two established by the function parameter split.\n",
    "\n",
    "* Fit KNN with the training data with number of neighbors equal to the function parameter neighbors\n",
    "\n",
    "* Generate and return back an accuracy score using the test data that was split out"
   ]
  },
  {
   "cell_type": "code",
   "execution_count": 18,
   "metadata": {
    "executionInfo": {
     "elapsed": 170,
     "status": "ok",
     "timestamp": 1668780211743,
     "user": {
      "displayName": "Gabriel Santos",
      "userId": "16066726462868079046"
     },
     "user_tz": 300
    },
    "id": "5VIRae0xlA20"
   },
   "outputs": [],
   "source": [
    "def Q3(neighbors,split):\n",
    "    X = iris.data\n",
    "    y = iris.target\n",
    "    \n",
    "    X_train, X_test, y_train, y_test = tts(X,y,test_size=split)\n",
    "    \n",
    "    knn = KNN(neighbors)\n",
    "    knn.fit(X_train, y_train)\n",
    "    knn_score = knn.score(X_test, y_test)\n",
    "    print(knn_score)\n",
    "    return knn_score"
   ]
  },
  {
   "cell_type": "markdown",
   "metadata": {
    "id": "GupwxBDVl8n2"
   },
   "source": [
    "**Q4**\n",
    "\n",
    "**Data set: Iris**\n",
    "\n",
    "* Generate an overfitting / underfitting curve of kNN each of the testing and training accuracy performance scores series for a range of neighbor (k) values from 1 to 30 and plot the curves (number of neighbors is x-axis, performance score is y-axis on the chart)."
   ]
  },
  {
   "cell_type": "code",
   "execution_count": 22,
   "metadata": {
    "executionInfo": {
     "elapsed": 195,
     "status": "ok",
     "timestamp": 1668780375446,
     "user": {
      "displayName": "Gabriel Santos",
      "userId": "16066726462868079046"
     },
     "user_tz": 300
    },
    "id": "M-6Ig8_QlA6J"
   },
   "outputs": [],
   "source": [
    "def Q4():\n",
    "    neighbors = np.arange(1, 30) \n",
    "    train_accuracy = np.empty(len(neighbors)) \n",
    "    test_accuracy = np.empty(len(neighbors)) \n",
    "    X = iris.data \n",
    "    y = iris.target \n",
    "    X_train, X_test, y_train, y_test = tts(X, y, test_size = 0.3, random_state = 21, stratify = y) \n",
    "    for i,k in enumerate(neighbors): \n",
    "        iris_knn = KNN(n_neighbors = k) \n",
    "        iris_knn.fit(X_train, y_train) \n",
    "        test_accuracy[i] = iris_knn.score(X_test, y_test) \n",
    "        train_accuracy[i] = iris_knn.score(X_train, y_train) \n",
    "    test_graph = plotly.graph_objs.Scatter(x = neighbors, y = test_accuracy)  \n",
    "    train_graph = plotly.graph_objs.Scatter(x = neighbors, y = train_accuracy) \n",
    "    test_train_graph = [test_graph, train_graph] \n",
    "    plotly_overfit_underfit_curve_url = chart_studio.plotly.plot(test_train_graph, filename = 'Testing and Training Accuracy Performance Scores', auto_open = True) \n",
    "    return plotly_overfit_underfit_curve_url"
   ]
  },
  {
   "cell_type": "markdown",
   "metadata": {
    "id": "NQ8WM1UJl8Iy"
   },
   "source": [
    "**Q5** \n",
    "\n",
    "**Data set: Boston**\n",
    "\n",
    "\n",
    "* Load sklearn's Boston data into a DataFrame (only the data and feature_name as column names)\n",
    "\n",
    "* Load sklearn's Boston target values into a separate DataFrame\n",
    "\n",
    "* Return back the average of AGE, average of the target (median value of homes or MEDV), and the target as NumPy values "
   ]
  },
  {
   "cell_type": "code",
   "execution_count": 28,
   "metadata": {
    "executionInfo": {
     "elapsed": 160,
     "status": "ok",
     "timestamp": 1668780595278,
     "user": {
      "displayName": "Gabriel Santos",
      "userId": "16066726462868079046"
     },
     "user_tz": 300
    },
    "id": "-Qi-PJvxlA8O"
   },
   "outputs": [],
   "source": [
    "def Q5():\n",
    "    X = boston.data\n",
    "    df1 = pd.DataFrame(X, columns=boston.feature_names)\n",
    "    average_age = df1.loc[:,\"AGE\"].mean()\n",
    "\n",
    "    y = boston.target\n",
    "    df2 = pd.DataFrame(y, columns=[\"MEDV\"])\n",
    "    average_medv = df2.loc[:,\"MEDV\"].mean()\n",
    "\n",
    "    medv_as_numpy_values = y\n",
    "    return average_age, average_medv, medv_as_numpy_values"
   ]
  },
  {
   "cell_type": "markdown",
   "metadata": {
    "id": "-z7LddLfmNyP"
   },
   "source": [
    "**Q6** \n",
    "\n",
    "**Data set: Boston**\n",
    "\n",
    "* In the Boston dataset, the feature PTRATIO refers to pupil teacher ratio.\n",
    "\n",
    "* Using a matplotlib scatter plot, plot MEDV median value of homes as y-axis and PTRATIO as x-axis\n",
    "\n",
    "* Return back PTRATIO as a NumPy array"
   ]
  },
  {
   "cell_type": "code",
   "execution_count": 29,
   "metadata": {
    "executionInfo": {
     "elapsed": 149,
     "status": "ok",
     "timestamp": 1668780629255,
     "user": {
      "displayName": "Gabriel Santos",
      "userId": "16066726462868079046"
     },
     "user_tz": 300
    },
    "id": "CDFVf0vxmSMo"
   },
   "outputs": [],
   "source": [
    "def Q6():\n",
    "    X_ptratio = boston.data[:, [10]]\n",
    "    y = boston.target\n",
    "    plt.scatter(X_ptratio, y, color='r')\n",
    "    plt.xlabel(\"pupil-teacher ratio by town\")\n",
    "    plt.ylabel(\"Housing Prices\")\n",
    "    plt.title(\"Relationship Between PT Ratio and Home Price\")\n",
    "    plt.show()\n",
    "    \n",
    "    return X_ptratio"
   ]
  },
  {
   "cell_type": "markdown",
   "metadata": {
    "id": "vmsmxjBcmZZ1"
   },
   "source": [
    "**Q7**\n",
    "\n",
    "**Data set: Boston**\n",
    "\n",
    "* Create a regression model for MEDV / PTRATIO and display a chart showing the regression line using matplotlib\n",
    "\n",
    "\n",
    "* Use np.linspace() to generate prediction X values from min to max PTRATIO\n",
    "\n",
    "* Return back the regression prediction space and regression predicted values\n",
    "\n",
    "* Make sure to labels axes appropriately"
   ]
  },
  {
   "cell_type": "code",
   "execution_count": null,
   "metadata": {
    "id": "02DsBMnDmmXC"
   },
   "outputs": [],
   "source": [
    "def Q7():\n",
    "\n",
    "    X_ptratio = boston.data[:, [10]]\n",
    "    y = boston.target\n",
    "    \n",
    "    reg = lm.LinearRegression()\n",
    "    reg_model = reg.fit(X_ptratio, y)\n",
    "    \n",
    "    prediction_space = np.linspace(min(X_ptratio), max(X_ptratio)).reshape(-1,1)\n",
    "    \n",
    "    \n",
    "    plt.scatter(X_ptratio, y, color='blue')\n",
    "    plt.plot(prediction_space, reg.predict(prediction_space), color='black', linewidth=3)\n",
    "    plt.xlabel(\"pupil-teacher ratio by town\")\n",
    "    plt.ylabel(\"Housing Prices\")\n",
    "    plt.title(\"Relationship Between PT Ratio and Housing Price\")\n",
    "    plt.show()\n",
    " \n",
    "    return reg_model, prediction_space"
   ]
  }
 ],
 "metadata": {
  "colab": {
   "provenance": [
    {
     "file_id": "13W7_I5PlFhmDzJ14Sft2MQLB4VPhL5ft",
     "timestamp": 1668781072531
    }
   ]
  },
  "kernelspec": {
   "display_name": "Python 3 (ipykernel)",
   "language": "python",
   "name": "python3"
  },
  "language_info": {
   "codemirror_mode": {
    "name": "ipython",
    "version": 3
   },
   "file_extension": ".py",
   "mimetype": "text/x-python",
   "name": "python",
   "nbconvert_exporter": "python",
   "pygments_lexer": "ipython3",
   "version": "3.9.12"
  }
 },
 "nbformat": 4,
 "nbformat_minor": 1
}
